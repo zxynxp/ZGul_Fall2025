{
  "nbformat": 4,
  "nbformat_minor": 0,
  "metadata": {
    "colab": {
      "provenance": []
    },
    "kernelspec": {
      "name": "python3",
      "display_name": "Python 3"
    },
    "language_info": {
      "name": "python"
    }
  },
  "cells": [
    {
      "cell_type": "markdown",
      "source": [
        "1. Produce a number guessing game, in which the user will make a guess from 1 to 20, and the program\n",
        "is going to report whether the number is correct.\n",
        "The game is expected to remain until the user guess the correct number. For any wrong answer, the\n",
        "program should also report whether the guessed number is higher or lower than the correct number.  \n",
        "Hint: The program should first create a random correct number, from 1 to 20."
      ],
      "metadata": {
        "id": "Wl34R64BZQLg"
      }
    },
    {
      "cell_type": "code",
      "source": [
        "import random\n",
        "\n",
        "def guess_game():\n",
        "  my_rand = random.randint(1, 20)\n",
        "\n",
        "print(my_rand) #To check if the game actually gets the number correctly.\n",
        "\n",
        "while True:\n",
        "  print(\"Please enter an integer between 1-20.\")\n",
        "  guess = int(input())\n",
        "\n",
        "  if guess < my_rand:\n",
        "      print(\"Your response is lower than the correct number. Keep guessing\")\n",
        "\n",
        "  elif guess > my_rand:\n",
        "        print(\"Your response is higher than the correct number. Keep guessing.\")\n",
        "\n",
        "  else:\n",
        "      print(\"Correct! The number was %i\" % guess)\n",
        "      break\n",
        "\n",
        "  guess_game()"
      ],
      "metadata": {
        "id": "SCfe-yiplJNZ"
      },
      "execution_count": null,
      "outputs": []
    },
    {
      "cell_type": "markdown",
      "source": [
        "2. Given a sorted array of distinct integers and a target value, return the index if the target is found. If\n",
        "not, return the index where it would be if it were inserted in order.\n"
      ],
      "metadata": {
        "id": "ieBMB4xblO7z"
      }
    },
    {
      "cell_type": "code",
      "source": [
        "#Hocam buna epey uğraşıp yapamadım, ChatGPT'den baktım malesef.\n",
        "\n",
        "def search_insert(nums, target):\n",
        "    for i in range(len(nums)):\n",
        "        if nums[i] >= target:\n",
        "            return i\n",
        "    return len(nums)\n",
        "\n",
        "my_list = [2 , 6, 8, 12]\n",
        "target = 3\n",
        "search_insert(my_list, target)"
      ],
      "metadata": {
        "colab": {
          "base_uri": "https://localhost:8080/"
        },
        "id": "z3xR4TWLlOHg",
        "outputId": "ee34af6f-2c68-4158-9c71-ce1689f086a4"
      },
      "execution_count": 62,
      "outputs": [
        {
          "output_type": "execute_result",
          "data": {
            "text/plain": [
              "1"
            ]
          },
          "metadata": {},
          "execution_count": 62
        }
      ]
    },
    {
      "cell_type": "markdown",
      "source": [
        "3. Given two binary strings a and b, return their sum as a binary string.\n",
        "For instance:\n",
        "• Input: a = \"11\", b = \"1\"\n",
        "• Output: \"100\""
      ],
      "metadata": {
        "id": "2Kw4rP--7pWI"
      }
    },
    {
      "cell_type": "code",
      "source": [
        "#Hocam bu sorudan hiçbir şey anlamadım. Hem bilgisayar mühendisi arkadaşımla\n",
        "#konuştuğumda, hem de ChatGPT'den baktığımda bana bir şey ifade etmedi, umarım\n",
        "#ben kaçırmamışımdır."
      ],
      "metadata": {
        "id": "pEmYraN97uth"
      },
      "execution_count": null,
      "outputs": []
    },
    {
      "cell_type": "markdown",
      "source": [
        "4. Given a non-empty array of integers numbers, every element appears twice except for one. Find that\n",
        "single one."
      ],
      "metadata": {
        "id": "VdaZ6r3_-DHG"
      }
    },
    {
      "cell_type": "code",
      "source": [
        "exp_list = [ 8, 8, 9, 9, 0, 0, 3, 3, 6, 6, 7, 7, 5, 11, 11]\n",
        "\n",
        "for i in exp_list:\n",
        "  how_many = exp_list.count(i)\n",
        "  if how_many == 1:\n",
        "    print(\"%i appears only once\" %i)"
      ],
      "metadata": {
        "colab": {
          "base_uri": "https://localhost:8080/"
        },
        "id": "cqUDGm_cCvNu",
        "outputId": "aeb9b3e3-2854-49d9-c77c-2c738fa2dbd4"
      },
      "execution_count": 85,
      "outputs": [
        {
          "output_type": "stream",
          "name": "stdout",
          "text": [
            "5 appears only once\n"
          ]
        }
      ]
    },
    {
      "cell_type": "markdown",
      "source": [
        "5. The DNA sequence is composed of a series of nucleotides abbreviated as 'A', 'C', 'G', and 'T'.\n",
        "For example, \"ACGAATTCCG\" is a DNA sequence. When studying DNA, it is useful to identify repeated\n",
        "sequences within the DNA.\n",
        "Given a string s that represents a DNA sequence, return all the 10-letter-long sequences (substrings)\n",
        "that occur more than once in a DNA molecule. You may return the answer in any order.\n",
        "For instance:\n",
        "• Input: s = \"AAAAACCCCCAAAAACCCCCCAAAAAGGGTTT\"\n",
        "• Output: [\"AAAAACCCCC\",\"CCCCCAAAAA\"]\n"
      ],
      "metadata": {
        "id": "KjnkkQ5gDO89"
      }
    },
    {
      "cell_type": "code",
      "source": [
        "exp_dna = \"AAAAACCCCCAAAAACCCCCCAAAAAGGGTTT\"\n",
        "printed = set()\n",
        "\n",
        "for i in range(len(exp_dna)):\n",
        "  for  i  in range(10,(len(exp_dna) - 12)):\n",
        "    rep_dna = exp_dna[i-10:i]\n",
        "    how_many = exp_dna.count(rep_dna)\n",
        "    if how_many == 2 and rep_dna not in printed:\n",
        "      print(\"%s appears twice\" % rep_dna)\n",
        "    printed.add(rep_dna)\n",
        "\n"
      ],
      "metadata": {
        "colab": {
          "base_uri": "https://localhost:8080/"
        },
        "id": "PKeP711DDNvm",
        "outputId": "ec66d325-29e1-46ad-97af-f82dbb44953b"
      },
      "execution_count": 126,
      "outputs": [
        {
          "output_type": "stream",
          "name": "stdout",
          "text": [
            "AAAAACCCCC appears twice\n",
            "CCCCCAAAAA appears twice\n"
          ]
        }
      ]
    }
  ]
}